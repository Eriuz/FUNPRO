{
  "nbformat": 4,
  "nbformat_minor": 0,
  "metadata": {
    "colab": {
      "provenance": []
    },
    "kernelspec": {
      "name": "python3",
      "display_name": "Python 3"
    },
    "language_info": {
      "name": "python"
    }
  },
  "cells": [
    {
      "cell_type": "markdown",
      "source": [
        "##Continuacion de la actividad realizada en clase\n"
      ],
      "metadata": {
        "id": "u_lJYdtne7vk"
      }
    },
    {
      "cell_type": "code",
      "source": [
        "##ejercicio 5\n",
        "base=float(input(\"me puedes dar la base : \"))\n",
        "altura=float(input(\"me puedes dar la altura : \"))\n",
        "\n",
        "superficie=(base*altura)/2\n",
        "\n",
        "print(f\"superficie del triangulo {superficie}\")"
      ],
      "metadata": {
        "colab": {
          "base_uri": "https://localhost:8080/"
        },
        "id": "nfRJa17ffHcn",
        "outputId": "e71d9f3c-2687-400c-edc7-4c12780b302f"
      },
      "execution_count": 1,
      "outputs": [
        {
          "output_type": "stream",
          "name": "stdout",
          "text": [
            "me puedes dar la base : 5\n",
            "me puedes dar la altura : 10\n",
            "superficie del triangulo 25.0\n"
          ]
        }
      ]
    },
    {
      "cell_type": "code",
      "source": [
        "##ejercicio 6\n",
        "dias=float(input(\"ingresa los dias a trabajar: \"))\n",
        "sueldo=float(input(\"cuanto es tu pago por dia: \"))\n",
        "\n",
        "resu=(dias*sueldo)\n",
        "print(f\"sueldo semanal es de: {resu}\")"
      ],
      "metadata": {
        "colab": {
          "base_uri": "https://localhost:8080/"
        },
        "id": "QTUhxiFAffUJ",
        "outputId": "cc1d0c53-a0a5-4654-afe5-58ae11ba3bfe"
      },
      "execution_count": 2,
      "outputs": [
        {
          "output_type": "stream",
          "name": "stdout",
          "text": [
            "ingresa los dias a trabajar: 5\n",
            "cuanto es tu pago por dia: 80000\n",
            "sueldo semanal es de: 400000.0\n"
          ]
        }
      ]
    },
    {
      "cell_type": "code",
      "source": [
        "##ejercicio 7\n",
        "num1 = float(input(\"Ingresa el primer número: \"))\n",
        "num2 = float(input(\"Ingresa el segundo número: \"))\n",
        "\n",
        "suma = num1 + num2\n",
        "diferencia = num1 - num2\n",
        "producto = num1 * num2\n",
        "cociente = num1 / num2 if num2 != 0 else \"Error: División por cero\"\n",
        "\n",
        "print(f\"Suma: {suma}, Resta: {diferencia}, Multiplicación: {producto}, División: {cociente}\")"
      ],
      "metadata": {
        "colab": {
          "base_uri": "https://localhost:8080/"
        },
        "id": "-5mCVUOTgZTy",
        "outputId": "b4f212e7-83aa-42f6-816d-014a8a92286d"
      },
      "execution_count": 3,
      "outputs": [
        {
          "output_type": "stream",
          "name": "stdout",
          "text": [
            "Ingresa el primer número: 5\n",
            "Ingresa el segundo número: 5\n",
            "Suma: 10.0, Resta: 0.0, Multiplicación: 25.0, División: 1.0\n"
          ]
        }
      ]
    },
    {
      "cell_type": "code",
      "source": [
        "##ejercicio 8\n",
        "radio = float(input(\"Ingresa el radio del círculo: \"))\n",
        "pi = 3.1416\n",
        "\n",
        "area = pi * (radio ** 2)\n",
        "circunferencia = 2 * pi * radio\n",
        "\n",
        "print(f\"Área: {area}, Circunferencia: {circunferencia}\")"
      ],
      "metadata": {
        "colab": {
          "base_uri": "https://localhost:8080/"
        },
        "id": "WhuvarSIgpy9",
        "outputId": "39d8e4ff-7d8c-47a9-e6e3-e743c58ac233"
      },
      "execution_count": 4,
      "outputs": [
        {
          "output_type": "stream",
          "name": "stdout",
          "text": [
            "Ingresa el radio del círculo: 5.5\n",
            "Área: 95.0334, Circunferencia: 34.5576\n"
          ]
        }
      ]
    }
  ]
}