{
  "nbformat": 4,
  "nbformat_minor": 0,
  "metadata": {
    "colab": {
      "provenance": []
    },
    "kernelspec": {
      "name": "python3",
      "display_name": "Python 3"
    },
    "language_info": {
      "name": "python"
    }
  },
  "cells": [
    {
      "cell_type": "markdown",
      "source": [
        "##COMANDOS\n",
        "\n",
        "1. Imprimir: print()\n",
        "2. lee, imprime y asigna: variable=input()\n",
        "3. float(input) = decimal\n",
        "4. int(input) = sin decimales\n",
        "5. print(f\": {}\\: {}\")"
      ],
      "metadata": {
        "id": "lMpk_Gg1MaFO"
      }
    },
    {
      "cell_type": "code",
      "execution_count": 27,
      "metadata": {
        "colab": {
          "base_uri": "https://localhost:8080/"
        },
        "id": "VCj7r77SMHCs",
        "outputId": "35820f3d-edd3-4f54-922c-95858d56609a"
      },
      "outputs": [
        {
          "name": "stdout",
          "output_type": "stream",
          "text": [
            "ingrese el codigo del estudiante U00173548\n"
          ]
        }
      ],
      "source": [
        "#leer codigo el estudiante\n",
        "cod=input(\"ingrese el codigo del estudiante \")"
      ]
    },
    {
      "cell_type": "code",
      "source": [
        "#leer cinco calificaciones\n",
        "nota1=float(input(\"ingrese nota 1:\"))\n",
        "nota2=float(input(\"ingrese nota 2:\"))\n",
        "nota3=float(input(\"ingrese nota 3:\"))\n",
        "nota4=float(input(\"ingrese nota 4:\"))\n",
        "nota5=float(input(\"ingrese nota 5:\"))"
      ],
      "metadata": {
        "colab": {
          "base_uri": "https://localhost:8080/"
        },
        "id": "NSBH48E-NMK9",
        "outputId": "7fb7200b-d200-4484-f105-7b96e1cdc4f4"
      },
      "execution_count": 7,
      "outputs": [
        {
          "name": "stdout",
          "output_type": "stream",
          "text": [
            "ingrese nota 1:1.5\n",
            "ingrese nota 2:3.5\n",
            "ingrese nota 3:4.5\n",
            "ingrese nota 4:1.2\n",
            "ingrese nota 5:4\n"
          ]
        }
      ]
    },
    {
      "cell_type": "code",
      "source": [
        "promedio=(nota1+nota2+nota3+nota4+nota5)/5"
      ],
      "metadata": {
        "id": "5_dH4wzAQpI6"
      },
      "execution_count": 15,
      "outputs": []
    },
    {
      "cell_type": "code",
      "source": [
        "print(f\"codigo del estudiante: {cod}\\npromedio: {promedio}\")"
      ],
      "metadata": {
        "colab": {
          "base_uri": "https://localhost:8080/"
        },
        "id": "sQbMF4_KRWBy",
        "outputId": "227ba640-209b-497b-de33-3bb76d671f6f"
      },
      "execution_count": 16,
      "outputs": [
        {
          "output_type": "stream",
          "name": "stdout",
          "text": [
            "codigo del estudiante: U00173548\n",
            "promedio: 2.94\n"
          ]
        }
      ]
    },
    {
      "cell_type": "code",
      "source": [
        "#cuadrado y cubo de número\n",
        "NUM=float(input(\"numero: \"))"
      ],
      "metadata": {
        "colab": {
          "base_uri": "https://localhost:8080/"
        },
        "id": "zSarT2nSUjTH",
        "outputId": "65a82763-756f-4ad6-feed-6cb999884672"
      },
      "execution_count": 1,
      "outputs": [
        {
          "name": "stdout",
          "output_type": "stream",
          "text": [
            "numero: 9\n"
          ]
        }
      ]
    },
    {
      "cell_type": "code",
      "source": [
        "cuadrado=NUM**2\n",
        "cubo=NUM**3\n"
      ],
      "metadata": {
        "id": "hrgQmoljaaDq"
      },
      "execution_count": 2,
      "outputs": []
    },
    {
      "cell_type": "code",
      "source": [
        "print(f\"cuadrado: {cuadrado}\\ncubo: {cubo}\")"
      ],
      "metadata": {
        "colab": {
          "base_uri": "https://localhost:8080/"
        },
        "id": "u-HmIhk-bFHK",
        "outputId": "dd0479a7-ec96-4a54-a144-fbea31378520"
      },
      "execution_count": 19,
      "outputs": [
        {
          "output_type": "stream",
          "name": "stdout",
          "text": [
            "cuadrado: 81.0\n",
            "cubo: 729.0\n"
          ]
        }
      ]
    },
    {
      "cell_type": "code",
      "source": [
        "#perimetro y superficie de rectangulo\n",
        "base=float(input(\"base en metros: \"))\n",
        "altura=float(input(\"altura en metros: \"))"
      ],
      "metadata": {
        "colab": {
          "base_uri": "https://localhost:8080/"
        },
        "id": "RifT3FIEcUeR",
        "outputId": "0ce9c590-cd78-484d-f30a-deab6f82af76"
      },
      "execution_count": 4,
      "outputs": [
        {
          "name": "stdout",
          "output_type": "stream",
          "text": [
            "base en metros: 10\n",
            "altura en metros: 5\n"
          ]
        }
      ]
    },
    {
      "cell_type": "code",
      "source": [
        "perimetro=2*(base+altura)"
      ],
      "metadata": {
        "id": "kB-bft21dKAR"
      },
      "execution_count": 12,
      "outputs": []
    },
    {
      "cell_type": "code",
      "source": [
        "superficie=base*altura"
      ],
      "metadata": {
        "id": "iR9n1jj3dwqq"
      },
      "execution_count": 14,
      "outputs": []
    },
    {
      "cell_type": "code",
      "source": [
        "print(f\"perimetro: {perimetro}\\nsuperficie: {superficie}\")"
      ],
      "metadata": {
        "colab": {
          "base_uri": "https://localhost:8080/"
        },
        "id": "HRycI1FEd6KK",
        "outputId": "225e3f5e-6625-4be0-c6be-424bb2e23a14"
      },
      "execution_count": 20,
      "outputs": [
        {
          "output_type": "stream",
          "name": "stdout",
          "text": [
            "perimetro: 30.0\n",
            "superficie: 50.0\n"
          ]
        }
      ]
    },
    {
      "cell_type": "code",
      "source": [
        "#cambio a entregar en una venta\n",
        "articulo=float(input(\"precio: \"))\n",
        "dinero_entregado=float(input(\"pago:\"))"
      ],
      "metadata": {
        "colab": {
          "base_uri": "https://localhost:8080/"
        },
        "id": "RTuallAcfNII",
        "outputId": "617bae0b-7dbd-4fdb-e23d-70336f199126"
      },
      "execution_count": 24,
      "outputs": [
        {
          "name": "stdout",
          "output_type": "stream",
          "text": [
            "precio: 50000\n",
            "pago:100000\n"
          ]
        }
      ]
    },
    {
      "cell_type": "code",
      "source": [
        "cambio=dinero_entregado-articulo"
      ],
      "metadata": {
        "id": "oFpcPpl3f-9_"
      },
      "execution_count": 25,
      "outputs": []
    },
    {
      "cell_type": "code",
      "source": [
        "print(f\"cambio: {cambio}\")"
      ],
      "metadata": {
        "colab": {
          "base_uri": "https://localhost:8080/"
        },
        "id": "MaNyO8MRgdy2",
        "outputId": "06767601-e8f0-49e5-d275-ef605325f33b"
      },
      "execution_count": 26,
      "outputs": [
        {
          "output_type": "stream",
          "name": "stdout",
          "text": [
            "cambio: 50000.0\n"
          ]
        }
      ]
    }
  ]
}